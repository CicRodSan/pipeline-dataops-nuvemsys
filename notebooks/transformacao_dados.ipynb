{
 "cells": [
  {
   "cell_type": "markdown",
   "id": "9012a718",
   "metadata": {},
   "source": [
    "# Como criar um cluster Databricks para este notebook\\n\n",
    "\\n\n",
    "1. No menu lateral do Databricks, clique em **Compute** (ou **Clusters**).\\n\n",
    "2. Clique em **Create Cluster**.\\n\n",
    "3. Preencha as configurações:\\n\n",
    "   - **Cluster name:** cluster-transformacao\\n\n",
    "   - **Cluster mode:** Standard\\n\n",
    "   - **Databricks Runtime Version:** 10.4 LTS (ou superior)\\n\n",
    "   - **Node type:** Standard_DS3_v2 (ou equivalente)\\n\n",
    "   - **Number of workers:** 1 ou 2 para testes\\n\n",
    "   - **Auto Termination:** 30 minutos (opcional)\\n\n",
    "4. Clique em **Create Cluster**.\\n\n",
    "5. Quando o cluster estiver ativo, selecione-o no topo deste notebook para executar as células."
   ]
  },
  {
   "cell_type": "markdown",
   "id": "76a971a9",
   "metadata": {},
   "source": [
    "## Configuração da Sessão Spark\\n\n",
    "Inicializa a sessão Spark. A configuração exata pode precisar de ajustes dependendo do ambiente (Databricks, Synapse)."
   ]
  },
  {
   "cell_type": "code",
   "execution_count": null,
   "id": "aedc34da",
   "metadata": {},
   "outputs": [],
   "source": [
    "from pyspark.sql import SparkSession\\n\n",
    "\\n\n",
    "# Cria ou obtém uma sessão Spark existente\\n\n",
    "spark = SparkSession.builder\\\\\\n\n",
    "    .appName(\\\n",
    ")\\\\\\n\n",
    "    .getOrCreate()\\n\n",
    "\\n\n",
    "print(f\\"
   ]
  },
  {
   "cell_type": "markdown",
   "id": "5f46f6cb",
   "metadata": {},
   "source": [
    "## Leitura dos Dados Ingeridos\\n\n",
    "Lê os arquivos Parquet do NOAA ISD que foram copiados pelo pipeline de ingestão para o contêiner 'output'."
   ]
  },
  {
   "cell_type": "code",
   "execution_count": null,
   "id": "7fe78a1a",
   "metadata": {},
   "outputs": [],
   "source": [
    "# Substitua <STORAGE_ACCOUNT_NAME> pelo nome da sua conta de armazenamento (ex: datavalidation456)\\n\n",
    "storage_account_name = \\\n",
    " # <-- VERIFIQUE ESTE NOME\\n\n",
    "\\n\n",
    "container_name = \\\n",
    " # Container onde os dados ingeridos estão\\n\n",
    "\\n\n",
    "# Monta o caminho completo no ADLS Gen2 ou Blob Storage\\n\n",
    "input_path = f\\"
   ]
  }
 ],
 "metadata": {
  "language_info": {
   "name": "python"
  }
 },
 "nbformat": 4,
 "nbformat_minor": 5
}
