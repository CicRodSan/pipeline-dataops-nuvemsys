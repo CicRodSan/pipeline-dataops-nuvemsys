{
 "cells": [
  {
   "cell_type": "markdown",
   "id": "9012a718",
   "metadata": {},
   "source": [
    "# Transformação de Dados Meteorológicos NOAA ISD"
   ]
  },
  {
   "cell_type": "markdown",
   "id": "76a971a9",
   "metadata": {},
   "source": [
    "## Configuração da Sessão Spark\\n\n",
    "Inicializa a sessão Spark. A configuração exata pode precisar de ajustes dependendo do ambiente (Databricks, Synapse)."
   ]
  },
  {
   "cell_type": "code",
   "execution_count": null,
   "id": "aedc34da",
   "metadata": {},
   "outputs": [],
   "source": [
    "from pyspark.sql import SparkSession\\n\n",
    "\\n\n",
    "# Cria ou obtém uma sessão Spark existente\\n\n",
    "spark = SparkSession.builder\\\\\\n\n",
    "    .appName(\\\n",
    ")\\\\\\n\n",
    "    .getOrCreate()\\n\n",
    "\\n\n",
    "print(f\\\n",
    ")"
   ]
  },
  {
   "cell_type": "markdown",
   "id": "5f46f6cb",
   "metadata": {},
   "source": [
    "## Leitura dos Dados Ingeridos\\n\n",
    "Lê os arquivos Parquet do NOAA ISD que foram copiados pelo pipeline de ingestão para o contêiner 'output'."
   ]
  },
  {
   "cell_type": "code",
   "execution_count": null,
   "id": "7fe78a1a",
   "metadata": {},
   "outputs": [],
   "source": [
    "# Substitua <STORAGE_ACCOUNT_NAME> pelo nome da sua conta de armazenamento (datavalidation456)\\n\n",
    "storage_account_name = \\\n",
    "\\n\n",
    "container_name = \\\n",
    "\\n\n",
    "input_path = f\\"
   ]
  }
 ],
 "metadata": {
  "language_info": {
   "name": "python"
  }
 },
 "nbformat": 4,
 "nbformat_minor": 5
}
